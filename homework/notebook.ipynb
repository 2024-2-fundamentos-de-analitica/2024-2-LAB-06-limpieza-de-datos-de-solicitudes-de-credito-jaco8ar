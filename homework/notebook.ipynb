{
 "cells": [
  {
   "cell_type": "code",
   "execution_count": 622,
   "metadata": {},
   "outputs": [],
   "source": [
    "import pandas as pd\n",
    "\n",
    "def load_data():\n",
    "    return pd.read_table(\"../files/input/solicitudes_de_credito.csv\", sep = \";\", index_col= 0)\n"
   ]
  },
  {
   "cell_type": "code",
   "execution_count": 623,
   "metadata": {},
   "outputs": [
    {
     "data": {
      "text/html": [
       "<div>\n",
       "<style scoped>\n",
       "    .dataframe tbody tr th:only-of-type {\n",
       "        vertical-align: middle;\n",
       "    }\n",
       "\n",
       "    .dataframe tbody tr th {\n",
       "        vertical-align: top;\n",
       "    }\n",
       "\n",
       "    .dataframe thead th {\n",
       "        text-align: right;\n",
       "    }\n",
       "</style>\n",
       "<table border=\"1\" class=\"dataframe\">\n",
       "  <thead>\n",
       "    <tr style=\"text-align: right;\">\n",
       "      <th></th>\n",
       "      <th>sexo</th>\n",
       "      <th>tipo_de_emprendimiento</th>\n",
       "      <th>idea_negocio</th>\n",
       "      <th>barrio</th>\n",
       "      <th>estrato</th>\n",
       "      <th>comuna_ciudadano</th>\n",
       "      <th>fecha_de_beneficio</th>\n",
       "      <th>monto_del_credito</th>\n",
       "      <th>línea_credito</th>\n",
       "    </tr>\n",
       "  </thead>\n",
       "  <tbody>\n",
       "    <tr>\n",
       "      <th>0</th>\n",
       "      <td>masculino</td>\n",
       "      <td>comercio</td>\n",
       "      <td>fabrica de</td>\n",
       "      <td>prado</td>\n",
       "      <td>3</td>\n",
       "      <td>10.0</td>\n",
       "      <td>13/07/2018</td>\n",
       "      <td>5000000</td>\n",
       "      <td>microempresarial</td>\n",
       "    </tr>\n",
       "    <tr>\n",
       "      <th>1</th>\n",
       "      <td>femenino</td>\n",
       "      <td>servicio</td>\n",
       "      <td>recreativo-educativo</td>\n",
       "      <td>barrio caicedo</td>\n",
       "      <td>1</td>\n",
       "      <td>9.0</td>\n",
       "      <td>30/10/2017</td>\n",
       "      <td>6000000</td>\n",
       "      <td>microempresarial</td>\n",
       "    </tr>\n",
       "    <tr>\n",
       "      <th>2</th>\n",
       "      <td>femenino</td>\n",
       "      <td>comercio</td>\n",
       "      <td>tienda</td>\n",
       "      <td>aranjuez</td>\n",
       "      <td>2</td>\n",
       "      <td>4.0</td>\n",
       "      <td>3/08/2017</td>\n",
       "      <td>7300000</td>\n",
       "      <td>microempresarial</td>\n",
       "    </tr>\n",
       "    <tr>\n",
       "      <th>3</th>\n",
       "      <td>Masculino</td>\n",
       "      <td>comercio</td>\n",
       "      <td>variedades</td>\n",
       "      <td>cabecera san cristobal</td>\n",
       "      <td>3</td>\n",
       "      <td>60.0</td>\n",
       "      <td>20/11/2017</td>\n",
       "      <td>7000000</td>\n",
       "      <td>microempresarial</td>\n",
       "    </tr>\n",
       "    <tr>\n",
       "      <th>4</th>\n",
       "      <td>femenino</td>\n",
       "      <td>comercio</td>\n",
       "      <td>fabrica de</td>\n",
       "      <td>robledo</td>\n",
       "      <td>2</td>\n",
       "      <td>7.0</td>\n",
       "      <td>23/02/2017</td>\n",
       "      <td>5000000</td>\n",
       "      <td>microempresarial</td>\n",
       "    </tr>\n",
       "  </tbody>\n",
       "</table>\n",
       "</div>"
      ],
      "text/plain": [
       "        sexo tipo_de_emprendimiento          idea_negocio  \\\n",
       "0  masculino               comercio           fabrica de    \n",
       "1   femenino               servicio  recreativo-educativo   \n",
       "2   femenino               comercio                tienda   \n",
       "3  Masculino               comercio            variedades   \n",
       "4   femenino               comercio           fabrica de    \n",
       "\n",
       "                   barrio  estrato  comuna_ciudadano fecha_de_beneficio  \\\n",
       "0                   prado        3              10.0         13/07/2018   \n",
       "1          barrio caicedo        1               9.0         30/10/2017   \n",
       "2                aranjuez        2               4.0          3/08/2017   \n",
       "3  cabecera san cristobal        3              60.0         20/11/2017   \n",
       "4                 robledo        2               7.0         23/02/2017   \n",
       "\n",
       "  monto_del_credito     línea_credito  \n",
       "0           5000000  microempresarial  \n",
       "1           6000000  microempresarial  \n",
       "2           7300000  microempresarial  \n",
       "3           7000000  microempresarial  \n",
       "4           5000000  microempresarial  "
      ]
     },
     "execution_count": 623,
     "metadata": {},
     "output_type": "execute_result"
    }
   ],
   "source": [
    "df = load_data()\n",
    "df.head()"
   ]
  },
  {
   "cell_type": "code",
   "execution_count": 624,
   "metadata": {},
   "outputs": [
    {
     "name": "stdout",
     "output_type": "stream",
     "text": [
      "(10920, 9)\n"
     ]
    }
   ],
   "source": [
    "print(df.shape)"
   ]
  },
  {
   "cell_type": "code",
   "execution_count": 625,
   "metadata": {},
   "outputs": [
    {
     "name": "stdout",
     "output_type": "stream",
     "text": [
      "<class 'pandas.core.frame.DataFrame'>\n",
      "Index: 10920 entries, 0 to 10919\n",
      "Data columns (total 9 columns):\n",
      " #   Column                  Non-Null Count  Dtype  \n",
      "---  ------                  --------------  -----  \n",
      " 0   sexo                    10920 non-null  object \n",
      " 1   tipo_de_emprendimiento  10818 non-null  object \n",
      " 2   idea_negocio            10920 non-null  object \n",
      " 3   barrio                  10818 non-null  object \n",
      " 4   estrato                 10920 non-null  int64  \n",
      " 5   comuna_ciudadano        10920 non-null  float64\n",
      " 6   fecha_de_beneficio      10920 non-null  object \n",
      " 7   monto_del_credito       10920 non-null  object \n",
      " 8   línea_credito           10920 non-null  object \n",
      "dtypes: float64(1), int64(1), object(7)\n",
      "memory usage: 853.1+ KB\n",
      "None\n"
     ]
    }
   ],
   "source": [
    "\n",
    "print(df.info())"
   ]
  },
  {
   "cell_type": "code",
   "execution_count": 626,
   "metadata": {},
   "outputs": [
    {
     "data": {
      "text/plain": [
       "sexo                      0\n",
       "tipo_de_emprendimiento    0\n",
       "idea_negocio              0\n",
       "barrio                    0\n",
       "estrato                   3\n",
       "comuna_ciudadano          0\n",
       "fecha_de_beneficio        0\n",
       "monto_del_credito         0\n",
       "línea_credito             0\n",
       "dtype: int64"
      ]
     },
     "execution_count": 626,
     "metadata": {},
     "output_type": "execute_result"
    }
   ],
   "source": [
    "(df == 0).sum()"
   ]
  },
  {
   "cell_type": "code",
   "execution_count": 627,
   "metadata": {},
   "outputs": [],
   "source": [
    "categorical_columns = [\"sexo\",\"tipo_de_emprendimiento\",\"idea_negocio\",\"barrio\",\"tipo_de_emprendimiento\"]"
   ]
  },
  {
   "cell_type": "code",
   "execution_count": 628,
   "metadata": {},
   "outputs": [],
   "source": [
    "df[\"monto_del_credito\"] = df[\"monto_del_credito\"].astype(str)  # Convert to string\n",
    "\n",
    "df[\"monto_del_credito\"] = (\n",
    "    df[\"monto_del_credito\"]\n",
    "    .str.replace(r\"[\\$,]\", \"\", regex=True)  # Remove $ and commas\n",
    "    .str.replace(r\"\\.00$\", \"\", regex=True)  # Remove .00 at the end\n",
    "    .str.replace(r\"\\.0$\", \"\", regex=True)\n",
    ")\n",
    "df[\"monto_del_credito\"] = df[\"monto_del_credito\"].astype(int) "
   ]
  },
  {
   "cell_type": "code",
   "execution_count": null,
   "metadata": {},
   "outputs": [],
   "source": []
  },
  {
   "cell_type": "code",
   "execution_count": 629,
   "metadata": {},
   "outputs": [],
   "source": [
    "for column in categorical_columns:\n",
    "    df[column] = df[column].str.lower()\n",
    "    df[column] = df[column].str.replace(\",\", \"\")\n",
    "    df[column] = df[column].str.replace(r\"[\\_\\-]\", \" \", regex=True)\n",
    "    df[column] = df[column].str.strip()"
   ]
  },
  {
   "cell_type": "code",
   "execution_count": 630,
   "metadata": {},
   "outputs": [
    {
     "name": "stdout",
     "output_type": "stream",
     "text": [
      "2 ['masculino' 'femenino']\n",
      "5 ['comercio' 'servicio' 'industria' 'agropecuaria' nan]\n",
      "75 ['fabrica de' 'recreativo educativo' 'tienda' 'variedades' 'sembrados'\n",
      " 'comidas rapidas' 'miscelanea' 'cafe e internet' 'venta de calzado'\n",
      " 'productos de belleza' 'almacen de ropa en' 'barberia' 'peluqueria'\n",
      " 'jardineria' 'fabrica de alimentos' 'fabrica de traperos' 'papeleria'\n",
      " 'panaderia' 'mantenimiento en' 'tienda de helados' 'bares'\n",
      " 'criadero de animales' 'restaurante' 'organización y' 'fabrica de arepas'\n",
      " 'carpinteria' 'drogueria' 'productos de mar' 'ebanistaria'\n",
      " 'fabrica de calzado' 'fabrica de helados' 'carniceria' 'cafeteria'\n",
      " 'fabrica de muebles' 'legumbreria' 'ferreteria' 'fabrica de repuestos'\n",
      " 'distribuidora de' 'taller de electronica' 'lavanderia'\n",
      " 'fabrica de productos' 'servicios' 'billares' 'licorera'\n",
      " 'taller de mecanica' 'marroquineria' 'fabrica de ceramica'\n",
      " 'fabrica de velas' 'granero' 'tienda naturista' 'fabrica de juegos'\n",
      " 'deposito de' 'venta de lacteos' 'reciclaje' 'cerrajeria' 'charcuteria'\n",
      " 'fotografia' 'hoteles moteles' 'viveros' 'fabrica de colchones'\n",
      " 'publicidad y' 'joyeria' 'venta de pollos' 'lenceria para el'\n",
      " 'lavadero de' 'venta de repuestos' 'montallantas' 'marqueteria'\n",
      " 'gimnasio' 'fumigacion' 'floristeria' 'pañalera' 'mensajeria' 'venta de'\n",
      " 'alquiler de peliculas']\n",
      "224 ['prado' 'barrio caicedo' 'aranjuez' 'cabecera san cristobal' 'robledo'\n",
      " 'picachito' 'guayabal' 'carpinelo' 'belalcazar' 'manrique central no. 1'\n",
      " 'manrique central no. 2' 'santa elena central' 'andalucia'\n",
      " 'san javier no.1' 'belencito' 'centro admtivo' 'cabecera san antonio'\n",
      " 'villa hermosa' 'playon de los' 'buenos aires' 'popular' 'tricentenario'\n",
      " 'calasanz' 'pedregal' 'la francia' 'santa cruz' 'la floresta' 'belen'\n",
      " 'las brisas' 'castilla' 'santander' 'san javier no.2' nan 'la milagrosa'\n",
      " 'bombona no. 1' 'manrique oriental' 'villa liliam' 'kennedy'\n",
      " 'doce de octubre no.1' 'enciso' 'el salvador' 'la esperanza'\n",
      " 'santo domingo savio' 'campo valdes no. 2' 'campo valdes no. 1'\n",
      " 'las palmas' 'girardot' 'moravia' 'antonio nariño' 'el socorro'\n",
      " 'lopez de mesa' 'aures no. 2' 'san jose de la cima no.' 'palermo'\n",
      " '13 de noviembre' 'tejelo' 'francisco antonio zea' 'picacho'\n",
      " 'la loma oriental' 'la loma' 'florencia' 'pedregal alto'\n",
      " 'villa del socorro' 'la libertad' 'el chagualo' 'trinidad' 'el poblado'\n",
      " '20 de julio' 'la pradera' 'san pablo' 'jardin botanico' 'san antonio'\n",
      " 'miranda' 'las esmeraldas' 'pablo vi' 'boyaca' 'san joaquin' 'la america'\n",
      " 'villa niza' 'el pinal' 'la colina' 'san benito' 'manila' 'la palma'\n",
      " 'olaya herrera' 'san martin de porres' 'la cruz' 'boston' 'llanaditas'\n",
      " 'toscana' 'villatina' 'alfonso lopez' 'granizal' 'el progreso no.2'\n",
      " 'villa guadalupe' 'cordoba' 'juan xxiii la quiebra' 'versalles no. 1'\n",
      " 'santa rosa de lima' 'cristo rey' 'moscu no. 1' 'palmitas' 'san german'\n",
      " 'el rincon' 'blanquizal' 'la candelaria' 'la sierra' 'sucre' 'maria cano'\n",
      " 'aguas frias' 'ocho de marzo' 'campo amor' 'versalles no. 2'\n",
      " 'calasanz parte alta' 'suburbano altavista' 'la esperanza no. 2'\n",
      " 'vrda. san cristobal' 'pajarito' 'santa lucia' 'altavista' 'la avanzada'\n",
      " 'loreto' 'los mangos' 'san pedro' 'santa ines' 'bel¿n' 'el vergel'\n",
      " 'san diego' 'vrda. san antonio' 'gerona' 'el triunfo' 'bello horizonte'\n",
      " 'granada' 'eduardo santos' 'barrio cristobal' 'sevilla' 'el raizal'\n",
      " 'jesus nazareno' 'el salado' 'bosques de san pablo' 'campo alegre'\n",
      " 'nuevos conquistadores' 'la frontera' 'santa fe' 'las violetas'\n",
      " 'fuente clara' 'la isla' 'santa monica' 'el compromiso' 'el diamante'\n",
      " 'juan pablo ii' 'suburbano santa elena' 'barrio colon' 'el astillero'\n",
      " 'santa margarita' 'santa teresita' 'loma de los bernal' 'altamira'\n",
      " 'los alcazares' 'palenque' 'las granjas' 'el corazon' 'la ladera'\n",
      " 'las independencias' 'la florida' 'cataluna' 'el rodeo' 'veinte de julio'\n",
      " 'alejandro echavarria' 'el pesebre' 'parque norte' 'vrda. santa elena'\n",
      " 'sin barrio' 'santa maria de los' 'barro blanco' 'bombona no. 2'\n",
      " 'progreso' 'la cuchilla' 'la salle' 'laureles' 'la aguacatala'\n",
      " 'hector abad gomez' 'rosales' 'barrio colombia' 'caribe' 'villa nueva'\n",
      " 'yarumalito' 'zona expansion san' 'metropolitano' 'naranjal'\n",
      " 'barrio de jesus' 'san isidro' 'la oculta' 'carlos e. restrepo'\n",
      " 'brasilia' 'travesias' 'miraflores' 'la volcana y guayabal' 'aures no.1'\n",
      " 'la hondonada' 'oriente' 'betania' 'moscu no. 2' 'los angeles'\n",
      " 'la mansion' 'los cerros el vergel' 'san bernardo' 'fatima'\n",
      " 'villa turbay' 'miravalle' 'oleoducto' 'antonio nari¿o'\n",
      " 'doce de octubre no.2' 'universidad de' 'san josé de la montaña'\n",
      " 'florida nueva' 'monteclaro' 'vrda. palmitas' 'la aldea' 'villa flora'\n",
      " 'mirador del doce' 'suburbano barro' 'el estadio' 'el llano']\n",
      "5 ['comercio' 'servicio' 'industria' 'agropecuaria' nan]\n"
     ]
    }
   ],
   "source": [
    "for column in categorical_columns:\n",
    "    print(len(df[column].unique()),df[column].unique())"
   ]
  },
  {
   "cell_type": "code",
   "execution_count": 631,
   "metadata": {},
   "outputs": [],
   "source": [
    "df[\"comuna_ciudadano\"] = pd.to_numeric(df[\"comuna_ciudadano\"], errors= \"coerce\")\n",
    "df[\"monto_del_credito\"] = pd.to_numeric(df[\"monto_del_credito\"], errors=\"coerce\")"
   ]
  },
  {
   "cell_type": "code",
   "execution_count": 632,
   "metadata": {},
   "outputs": [],
   "source": [
    "df[\"fecha_de_beneficio\"] = pd.to_datetime(\n",
    "            df[\"fecha_de_beneficio\"], format=\"%d/%m/%Y\", errors=\"coerce\"\n",
    "        ).combine_first(\n",
    "            pd.to_datetime(df[\"fecha_de_beneficio\"], format=\"%Y/%m/%d\", errors=\"coerce\")\n",
    "        )"
   ]
  },
  {
   "cell_type": "code",
   "execution_count": 633,
   "metadata": {},
   "outputs": [
    {
     "data": {
      "text/plain": [
       "(10252, 9)"
      ]
     },
     "execution_count": 633,
     "metadata": {},
     "output_type": "execute_result"
    }
   ],
   "source": [
    "df = df.drop_duplicates()\n",
    "df = df.dropna()\n",
    "\n",
    "df.shape"
   ]
  },
  {
   "cell_type": "code",
   "execution_count": 634,
   "metadata": {},
   "outputs": [
    {
     "data": {
      "text/plain": [
       "[6636, 3616]"
      ]
     },
     "execution_count": 634,
     "metadata": {},
     "output_type": "execute_result"
    }
   ],
   "source": [
    "df[\"sexo\"].value_counts().to_list()"
   ]
  }
 ],
 "metadata": {
  "kernelspec": {
   "display_name": "Python 3",
   "language": "python",
   "name": "python3"
  },
  "language_info": {
   "codemirror_mode": {
    "name": "ipython",
    "version": 3
   },
   "file_extension": ".py",
   "mimetype": "text/x-python",
   "name": "python",
   "nbconvert_exporter": "python",
   "pygments_lexer": "ipython3",
   "version": "3.10.2"
  }
 },
 "nbformat": 4,
 "nbformat_minor": 2
}
